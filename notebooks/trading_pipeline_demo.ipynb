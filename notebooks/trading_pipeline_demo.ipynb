{
 "cells": [
  {
   "cell_type": "code",
   "execution_count": null,
   "metadata": {},
   "outputs": [],
   "source": [
    "from trading_bot.agents import (\n",
    "    TechnicalAnalysisAgent, MarketScannerAgent,\n",
    "    SocialMediaAgent, NewsAnalyzerAgent,\n",
    ")\n",
    "from trading_bot.pipeline import Pipeline\n",
    "from trading_bot.storage import JSONStorage\n",
    "from trading_bot.portfolio import Portfolio\n"
   ]
  },
  {
   "cell_type": "code",
   "execution_count": null,
   "metadata": {},
   "outputs": [],
   "source": [
    "agents = [TechnicalAnalysisAgent(), MarketScannerAgent(),\n",
    "          SocialMediaAgent(), NewsAnalyzerAgent()]\n",
    "pipeline = Pipeline(agents, storage=JSONStorage(\"data\"),\n",
    "                    portfolio=Portfolio())\n",
    "result = pipeline.run_for_symbol(\"TSLA\")\n",
    "result[\"strategy\"]\n"
   ]
  }
 ],
 "metadata": {
  "kernelspec": {
   "display_name": "Python 3",
   "language": "python",
   "name": "python3"
  },
  "language_info": {
   "name": "python"
  }
 },
 "nbformat": 4,
 "nbformat_minor": 5
}
