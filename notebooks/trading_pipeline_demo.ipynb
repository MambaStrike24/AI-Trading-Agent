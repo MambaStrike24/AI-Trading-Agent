{
  "cells": [
    {
      "cell_type": "markdown",
      "id": "25b8d2d9",
      "metadata": {},
      "source": [
        "# Trading Pipeline Demo\n",
        "\n",
        "Demonstrates running the pipeline for a date range and a single day."
      ]
    },
    {
      "cell_type": "code",
      "execution_count": 1,
      "id": "d59b79fd",
      "metadata": {},
      "outputs": [],
      "source": [
        "import sys, os\n",
        "project_root = os.path.abspath(os.path.join(os.getcwd(), '..'))\n",
        "if project_root not in sys.path:\n",
        "    sys.path.append(project_root)\n"
      ]
    },
    {
      "cell_type": "code",
      "execution_count": 2,
      "id": "24e27010",
      "metadata": {},
      "outputs": [],
      "source": [
        "from trading_bot.agents.llm_roles import (\n",
        "    MarketAnalystAgent,\n",
        "    NewsSummarizerAgent,\n",
        "    StrategyTypeAgent, \n",
        "    IndicatorSelectionAgent,\n",
        "    StrategyPlannerAgent,\n",
        ")\n",
        "\n",
        "from trading_bot.coordinator import Coordinator\n",
        "from trading_bot.pipeline import Pipeline\n",
        "from trading_bot.storage import JSONStorage\n",
        "from trading_bot.backtest import Backtester\n",
        "from trading_bot.portfolio import Portfolio\n",
        "import yfinance as yf\n",
        "\n",
        "coord = Coordinator([\n",
        "    MarketAnalystAgent(),\n",
        "    NewsSummarizerAgent(),\n",
        "    StrategyTypeAgent(), \n",
        "    IndicatorSelectionAgent(),\n",
        "    StrategyPlannerAgent(),\n",
        "])\n",
        "\n",
        "storage = JSONStorage()\n",
        "backtester = Backtester()\n",
        "portfolio = Portfolio()\n",
        "pipe = Pipeline(coord, storage=storage, backtester=backtester, portfolio=portfolio)\n"
      ]
    },
    {
      "cell_type": "code",
      "execution_count": 3,
      "id": "c0aaaaba",
      "metadata": {},
      "outputs": [
        {
          "name": "stderr",
          "output_type": "stream",
          "text": [
            "/Users/max.chen/Python_Code/AI-Trading-Agent/trading_bot/pipeline.py:111: FutureWarning: Calling float on a single element Series is deprecated and will raise a TypeError in the future. Use float(ser.iloc[0]) instead\n",
            "  price = float(price_series.iloc[0])\n"
          ]
        },
        {
          "data": {
            "text/plain": [
              "({'agent': 'StrategyPlannerAgent',\n",
              "  'symbol': 'TSLA',\n",
              "  'date': '2025-02-04',\n",
              "  'strategy_type': 'reversal',\n",
              "  'summary': \"Potential reversal in TSLA's downtrend\",\n",
              "  'rationale': \"Despite negative news sentiment and disappointing Q4 earnings, TSLA's fundamentals remain strong and macroeconomic conditions are favourable. The recent sell-off may be overdone, suggesting a possible reversal.\",\n",
              "  'setup': {'direction': 'long',\n",
              "   'entry_price': 385.0,\n",
              "   'entry_reason': 'Anticipated reversal point',\n",
              "   'stop_loss': {'price': 374.39, 'reason': 'Recent low'},\n",
              "   'capital_risk_pct': 2.75,\n",
              "   'targets': [{'price': 395.0,\n",
              "     'size_pct': 50.0,\n",
              "     'reason': 'Near term resistance'},\n",
              "    {'price': 405.0, 'size_pct': 50.0, 'reason': 'Recent high'}],\n",
              "   'trailing_stop': {'method': 'ATR',\n",
              "    'period': 14,\n",
              "    'description': 'Trailing stop based on Average True Range',\n",
              "    'reason': 'To protect profits and limit downside risk'}},\n",
              "  'derivations': {'session_range': {'high': 389.17, 'low': 374.39},\n",
              "   'last_close': 383.86,\n",
              "   'vwap': 382.3,\n",
              "   'atr': 10.0,\n",
              "   'rsi': 30.0,\n",
              "   'macd': {'line': -2.0, 'signal': -3.0, 'hist': 1.0},\n",
              "   'rr_calc': {'entry': 385.0,\n",
              "    'stop': 374.39,\n",
              "    'target1': 395.0,\n",
              "    'rr1': 2.03}}},\n",
              " {'conversation': 'data/TSLA/2025-02-04_conversation.json',\n",
              "  'strategy': 'data/TSLA/2025-02-04_strategy.json'})"
            ]
          },
          "execution_count": 3,
          "metadata": {},
          "output_type": "execute_result"
        }
      ],
      "source": [
        "single_result = pipe.run('TSLA', today='2025-02-04')\n",
        "single_result['strategy'], single_result['files']\n"
      ]
    },
    {
      "cell_type": "code",
      "execution_count": 4,
      "id": "54cc7a95",
      "metadata": {},
      "outputs": [
        {
          "name": "stderr",
          "output_type": "stream",
          "text": [
            "/Users/max.chen/Python_Code/AI-Trading-Agent/trading_bot/pipeline.py:111: FutureWarning: Calling float on a single element Series is deprecated and will raise a TypeError in the future. Use float(ser.iloc[0]) instead\n",
            "  price = float(price_series.iloc[0])\n"
          ]
        },
        {
          "data": {
            "text/plain": [
              "({'agent': 'StrategyPlannerAgent',\n",
              "  'symbol': 'TSLA',\n",
              "  'date': '2025-03-04',\n",
              "  'strategy_type': 'pullback',\n",
              "  'summary': 'Buying pullback in the context of strong fundamentals',\n",
              "  'rationale': 'Despite the recent price drop, the strong fundamentals and positive macroeconomic conditions suggest this could be a temporary pullback. The RSI is nearing oversold conditions and the EMA is still positive indicating potential for a price rebound.',\n",
              "  'setup': {'direction': 'long',\n",
              "   'entry_price': 284.78,\n",
              "   'entry_reason': 'RSI nearing oversold conditions and EMA still positive',\n",
              "   'stop_loss': {'price': 273.6, 'reason': 'Previous session low'},\n",
              "   'capital_risk_pct': 5,\n",
              "   'targets': [{'price': 300.73,\n",
              "     'size_pct': 50,\n",
              "     'reason': 'Recent swing high'},\n",
              "    {'price': 303.94, 'size_pct': 50, 'reason': 'Recent swing high'}],\n",
              "   'trailing_stop': {'method': 'ATR',\n",
              "    'period': 14,\n",
              "    'description': 'Trailing stop using ATR method',\n",
              "    'reason': 'To protect profits and limit downside risk'}},\n",
              "  'derivations': {'session_range': {'high': 303.94, 'low': 273.6},\n",
              "   'last_close': 284.78,\n",
              "   'vwap': 289.36,\n",
              "   'atr': 8.5,\n",
              "   'rsi': 30,\n",
              "   'macd': {'line': -2, 'signal': -1, 'hist': -1},\n",
              "   'rr_calc': {'entry': 284.78,\n",
              "    'stop': 273.6,\n",
              "    'target1': 300.73,\n",
              "    'rr1': 2.0}}},\n",
              " {'conversation': 'data/TSLA/2025-03-04_conversation.json',\n",
              "  'strategy': 'data/TSLA/2025-03-04_strategy.json'})"
            ]
          },
          "execution_count": 4,
          "metadata": {},
          "output_type": "execute_result"
        }
      ],
      "source": [
        "single_result = pipe.run('TSLA', today='2025-03-04')\n",
        "single_result['strategy'], single_result['files']"
      ]
    },
    {
      "cell_type": "code",
      "execution_count": null,
      "id": "043d76f5",
      "metadata": {},
      "outputs": [],
      "source": [
        "range_result = pipe.run('TSLA', start_date='2025-02-03', end_date='2025-02-05')\n",
        "range_result['files'], range_result['backtest']"
      ]
    },
    {
      "cell_type": "code",
      "execution_count": null,
      "id": "814a1034",
      "metadata": {},
      "outputs": [],
      "source": [
        "portfolio.total_pnl(), [p.__dict__ for p in portfolio.closed_positions()]\n"
      ]
    },
    {
      "cell_type": "code",
      "execution_count": null,
      "id": "5a1680d5",
      "metadata": {},
      "outputs": [],
      "source": [
        "from trading_bot.openai_client import call_llm\n",
        "print(call_llm(\"Say hello in JSON format\"))\n"
      ]
    },
    {
      "cell_type": "code",
      "execution_count": null,
      "id": "1402e4e2",
      "metadata": {},
      "outputs": [],
      "source": [
        "df = yf.download('TSLA', start='2025-02-03', end='2025-02-05')\n"
      ]
    },
    {
      "cell_type": "code",
      "execution_count": null,
      "id": "a11ad3b7",
      "metadata": {},
      "outputs": [],
      "source": [
        "import yfinance as yf\n",
        "import pandas as pd\n",
        "end = pd.to_datetime(\"2025-02-04\")\n",
        "start = end - pd.Timedelta(days=7)\n",
        "df = yf.download(\n",
        "    \"TSLA\",\n",
        "    start=start.strftime(\"%Y-%m-%d\"),\n",
        "    end=end.strftime(\"%Y-%m-%d\"),\n",
        "    interval=\"1h\",\n",
        "    auto_adjust=True,\n",
        "    progress=False,\n",
        ")\n",
        "df"
      ]
    },
    {
      "cell_type": "code",
      "execution_count": null,
      "id": "d2db8f28",
      "metadata": {},
      "outputs": [],
      "source": [
        "import yfinance as yf\n",
        "import pandas as pd\n",
        "end = pd.to_datetime(\"2025-03-04\")\n",
        "start = end - pd.Timedelta(days=7)\n",
        "df = yf.download(\n",
        "    \"TSLA\",\n",
        "    start=start.strftime(\"%Y-%m-%d\"),\n",
        "    end=end.strftime(\"%Y-%m-%d\"),\n",
        "    interval=\"1h\",\n",
        "    auto_adjust=True,\n",
        "    progress=False,\n",
        ")\n",
        "df"
      ]
    },
    {
      "cell_type": "code",
      "execution_count": null,
      "id": "4fd09a41",
      "metadata": {},
      "outputs": [],
      "source": []
    }
  ],
  "metadata": {
    "kernelspec": {
      "display_name": ".venv",
      "language": "python",
      "name": "python3"
    },
    "language_info": {
      "codemirror_mode": {
        "name": "ipython",
        "version": 3
      },
      "file_extension": ".py",
      "mimetype": "text/x-python",
      "name": "python",
      "nbconvert_exporter": "python",
      "pygments_lexer": "ipython3",
      "version": "3.9.12"
    }
  },
  "nbformat": 4,
  "nbformat_minor": 5
}
