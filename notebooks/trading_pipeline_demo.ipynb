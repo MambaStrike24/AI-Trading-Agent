{
 "cells": [
  {
   "cell_type": "markdown",
   "id": "87a6addf",
   "metadata": {},
   "source": [
    "# Trading Pipeline Demo\n",
    "\n",
    "This notebook demonstrates how to run the trading pipeline with multiple agents to generate a strategy for a given ticker."
   ]
  },
  {
   "cell_type": "code",
   "execution_count": 5,
   "id": "7d411fce",
   "metadata": {},
   "outputs": [],
   "source": [
    "import sys\n",
    "import os\n",
    "\n",
    "# Set the path to the project root so Python can find trading_bot/\n",
    "project_root = os.path.abspath(os.path.join(os.getcwd(), '..'))\n",
    "if project_root not in sys.path:\n",
    "    sys.path.append(project_root)\n"
   ]
  },
  {
   "cell_type": "code",
   "execution_count": 10,
   "id": "d1e73c2d",
   "metadata": {},
   "outputs": [
    {
     "name": "stdout",
     "output_type": "stream",
     "text": [
      "✅ Loaded: False\n"
     ]
    }
   ],
   "source": [
    "import os\n",
    "from dotenv import load_dotenv\n",
    "\n",
    "# Make sure to point to the correct .env file in the root directory\n",
    "load_dotenv(dotenv_path=\"../.env\")\n",
    "\n",
    "# Optional: check if it's working\n",
    "print(\"✅ Loaded:\", os.getenv(\"OPENAI_API_KEY\") is not None)\n",
    "\n"
   ]
  },
  {
   "cell_type": "code",
   "execution_count": 11,
   "id": "23215d35",
   "metadata": {},
   "outputs": [],
   "source": [
    "from trading_bot.coordinator import Coordinator\n",
    "from trading_bot.agents import (\n",
    "    MarketAnalystAgent,\n",
    "    RiskAdvisorAgent,\n",
    "    NewsSummarizerAgent,\n",
    ")\n",
    "from trading_bot.pipeline import Pipeline\n"
   ]
  },
  {
   "cell_type": "code",
   "execution_count": 12,
   "id": "e2a79977",
   "metadata": {},
   "outputs": [
    {
     "ename": "ValueError",
     "evalue": "OPENAI_API_KEY environment variable is not set",
     "output_type": "error",
     "traceback": [
      "\u001b[0;31m---------------------------------------------------------------------------\u001b[0m",
      "\u001b[0;31mValueError\u001b[0m                                Traceback (most recent call last)",
      "Cell \u001b[0;32mIn[12], line 27\u001b[0m\n\u001b[1;32m     25\u001b[0m coordinator \u001b[38;5;241m=\u001b[39m Coordinator([Analyst(), Risk(), News()])\n\u001b[1;32m     26\u001b[0m pipeline \u001b[38;5;241m=\u001b[39m Pipeline(coordinator)\n\u001b[0;32m---> 27\u001b[0m result \u001b[38;5;241m=\u001b[39m \u001b[43mpipeline\u001b[49m\u001b[38;5;241;43m.\u001b[39;49m\u001b[43mrun\u001b[49m\u001b[43m(\u001b[49m\u001b[38;5;124;43m\"\u001b[39;49m\u001b[38;5;124;43mTSLA\u001b[39;49m\u001b[38;5;124;43m\"\u001b[39;49m\u001b[43m)\u001b[49m\n\u001b[1;32m     28\u001b[0m result[\u001b[38;5;124m\"\u001b[39m\u001b[38;5;124mfinal_decision\u001b[39m\u001b[38;5;124m\"\u001b[39m]\n",
      "File \u001b[0;32m~/Python_Code/AI-Trading-Agent/trading_bot/pipeline.py:19\u001b[0m, in \u001b[0;36mPipeline.run\u001b[0;34m(self, symbol)\u001b[0m\n\u001b[1;32m     17\u001b[0m \u001b[38;5;28;01mdef\u001b[39;00m\u001b[38;5;250m \u001b[39m\u001b[38;5;21mrun\u001b[39m(\u001b[38;5;28mself\u001b[39m, symbol: \u001b[38;5;28mstr\u001b[39m) \u001b[38;5;241m-\u001b[39m\u001b[38;5;241m>\u001b[39m Dict[\u001b[38;5;28mstr\u001b[39m, Any]:\n\u001b[1;32m     18\u001b[0m \u001b[38;5;250m    \u001b[39m\u001b[38;5;124;03m\"\"\"Execute the coordinator for ``symbol`` and return its output.\"\"\"\u001b[39;00m\n\u001b[0;32m---> 19\u001b[0m     \u001b[38;5;28;01mreturn\u001b[39;00m \u001b[38;5;28;43mself\u001b[39;49m\u001b[38;5;241;43m.\u001b[39;49m\u001b[43mcoordinator\u001b[49m\u001b[38;5;241;43m.\u001b[39;49m\u001b[43mrun\u001b[49m\u001b[43m(\u001b[49m\u001b[43msymbol\u001b[49m\u001b[43m)\u001b[49m\n",
      "File \u001b[0;32m~/Python_Code/AI-Trading-Agent/trading_bot/coordinator.py:40\u001b[0m, in \u001b[0;36mCoordinator.run\u001b[0;34m(self, symbol)\u001b[0m\n\u001b[1;32m     37\u001b[0m follow_ups: List[Dict[\u001b[38;5;28mstr\u001b[39m, \u001b[38;5;28mstr\u001b[39m]] \u001b[38;5;241m=\u001b[39m []\n\u001b[1;32m     39\u001b[0m \u001b[38;5;28;01mfor\u001b[39;00m agent \u001b[38;5;129;01min\u001b[39;00m \u001b[38;5;28mself\u001b[39m\u001b[38;5;241m.\u001b[39magents:\n\u001b[0;32m---> 40\u001b[0m     response: Dict[\u001b[38;5;28mstr\u001b[39m, \u001b[38;5;28mstr\u001b[39m] \u001b[38;5;241m=\u001b[39m \u001b[43magent\u001b[49m\u001b[38;5;241;43m.\u001b[39;49m\u001b[43mrespond\u001b[49m\u001b[43m(\u001b[49m\u001b[43msymbol\u001b[49m\u001b[43m,\u001b[49m\u001b[43m \u001b[49m\u001b[43mhistory\u001b[49m\u001b[43m)\u001b[49m\n\u001b[1;32m     41\u001b[0m     agent_name \u001b[38;5;241m=\u001b[39m \u001b[38;5;28mgetattr\u001b[39m(agent, \u001b[38;5;124m\"\u001b[39m\u001b[38;5;124mname\u001b[39m\u001b[38;5;124m\"\u001b[39m, agent\u001b[38;5;241m.\u001b[39m\u001b[38;5;18m__class__\u001b[39m\u001b[38;5;241m.\u001b[39m\u001b[38;5;18m__name__\u001b[39m)\n\u001b[1;32m     42\u001b[0m     message \u001b[38;5;241m=\u001b[39m response\u001b[38;5;241m.\u001b[39mget(\u001b[38;5;124m\"\u001b[39m\u001b[38;5;124mmessage\u001b[39m\u001b[38;5;124m\"\u001b[39m, \u001b[38;5;124m\"\u001b[39m\u001b[38;5;124m\"\u001b[39m)\n",
      "Cell \u001b[0;32mIn[12], line 6\u001b[0m, in \u001b[0;36mAnalyst.respond\u001b[0;34m(self, symbol, history)\u001b[0m\n\u001b[1;32m      5\u001b[0m \u001b[38;5;28;01mdef\u001b[39;00m\u001b[38;5;250m \u001b[39m\u001b[38;5;21mrespond\u001b[39m(\u001b[38;5;28mself\u001b[39m, symbol, history):\n\u001b[0;32m----> 6\u001b[0m     result \u001b[38;5;241m=\u001b[39m \u001b[38;5;28;43mself\u001b[39;49m\u001b[38;5;241;43m.\u001b[39;49m\u001b[43magent\u001b[49m\u001b[38;5;241;43m.\u001b[39;49m\u001b[43manalyze\u001b[49m\u001b[43m(\u001b[49m\u001b[43msymbol\u001b[49m\u001b[43m)\u001b[49m\n\u001b[1;32m      7\u001b[0m     \u001b[38;5;28;01mreturn\u001b[39;00m {\u001b[38;5;124m\"\u001b[39m\u001b[38;5;124mmessage\u001b[39m\u001b[38;5;124m\"\u001b[39m: result\u001b[38;5;241m.\u001b[39mget(\u001b[38;5;124m\"\u001b[39m\u001b[38;5;124manalysis\u001b[39m\u001b[38;5;124m\"\u001b[39m, \u001b[38;5;124m\"\u001b[39m\u001b[38;5;124m\"\u001b[39m)}\n",
      "File \u001b[0;32m~/Python_Code/AI-Trading-Agent/trading_bot/agents/llm_roles.py:24\u001b[0m, in \u001b[0;36mMarketAnalystAgent.analyze\u001b[0;34m(self, symbol)\u001b[0m\n\u001b[1;32m     19\u001b[0m     \u001b[38;5;28;01mraise\u001b[39;00m \u001b[38;5;167;01mImportError\u001b[39;00m(\n\u001b[1;32m     20\u001b[0m         \u001b[38;5;124m\"\u001b[39m\u001b[38;5;124mopenai_client (and openai) must be available to use MarketAnalystAgent\u001b[39m\u001b[38;5;124m\"\u001b[39m\n\u001b[1;32m     21\u001b[0m     ) \u001b[38;5;28;01mfrom\u001b[39;00m\u001b[38;5;250m \u001b[39m\u001b[38;5;21;01mexc\u001b[39;00m\n\u001b[1;32m     23\u001b[0m prompt \u001b[38;5;241m=\u001b[39m \u001b[38;5;28mself\u001b[39m\u001b[38;5;241m.\u001b[39mprompt_template\u001b[38;5;241m.\u001b[39mformat(symbol\u001b[38;5;241m=\u001b[39msymbol)\n\u001b[0;32m---> 24\u001b[0m raw_response \u001b[38;5;241m=\u001b[39m \u001b[43mopenai_client\u001b[49m\u001b[38;5;241;43m.\u001b[39;49m\u001b[43mcall_openai\u001b[49m\u001b[43m(\u001b[49m\u001b[43mprompt\u001b[49m\u001b[43m)\u001b[49m\n\u001b[1;32m     26\u001b[0m \u001b[38;5;28;01mreturn\u001b[39;00m {\n\u001b[1;32m     27\u001b[0m     \u001b[38;5;124m\"\u001b[39m\u001b[38;5;124magent\u001b[39m\u001b[38;5;124m\"\u001b[39m: \u001b[38;5;124m\"\u001b[39m\u001b[38;5;124mMarketAnalystAgent\u001b[39m\u001b[38;5;124m\"\u001b[39m,\n\u001b[1;32m     28\u001b[0m     \u001b[38;5;124m\"\u001b[39m\u001b[38;5;124msymbol\u001b[39m\u001b[38;5;124m\"\u001b[39m: symbol,\n\u001b[1;32m     29\u001b[0m     \u001b[38;5;124m\"\u001b[39m\u001b[38;5;124manalysis\u001b[39m\u001b[38;5;124m\"\u001b[39m: raw_response,\n\u001b[1;32m     30\u001b[0m }\n",
      "File \u001b[0;32m~/Python_Code/AI-Trading-Agent/trading_bot/openai_client.py:39\u001b[0m, in \u001b[0;36mcall_openai\u001b[0;34m(prompt, temperature)\u001b[0m\n\u001b[1;32m     37\u001b[0m api_key \u001b[38;5;241m=\u001b[39m os\u001b[38;5;241m.\u001b[39mgetenv(\u001b[38;5;124m\"\u001b[39m\u001b[38;5;124mOPENAI_API_KEY\u001b[39m\u001b[38;5;124m\"\u001b[39m)\n\u001b[1;32m     38\u001b[0m \u001b[38;5;28;01mif\u001b[39;00m \u001b[38;5;129;01mnot\u001b[39;00m api_key:\n\u001b[0;32m---> 39\u001b[0m     \u001b[38;5;28;01mraise\u001b[39;00m \u001b[38;5;167;01mValueError\u001b[39;00m(\u001b[38;5;124m\"\u001b[39m\u001b[38;5;124mOPENAI_API_KEY environment variable is not set\u001b[39m\u001b[38;5;124m\"\u001b[39m)\n\u001b[1;32m     41\u001b[0m openai\u001b[38;5;241m.\u001b[39mapi_key \u001b[38;5;241m=\u001b[39m api_key\n\u001b[1;32m     43\u001b[0m \u001b[38;5;28;01mtry\u001b[39;00m:\n",
      "\u001b[0;31mValueError\u001b[0m: OPENAI_API_KEY environment variable is not set"
     ]
    }
   ],
   "source": [
    "class Analyst:\n",
    "    def __init__(self):\n",
    "        self.agent = MarketAnalystAgent()\n",
    "\n",
    "    def respond(self, symbol, history):\n",
    "        result = self.agent.analyze(symbol)\n",
    "        return {\"message\": result.get(\"analysis\", \"\")}\n",
    "\n",
    "class Risk:\n",
    "    def __init__(self):\n",
    "        self.agent = RiskAdvisorAgent()\n",
    "\n",
    "    def respond(self, symbol, history):\n",
    "        result = self.agent.assess(symbol)\n",
    "        return {\"message\": result.get(\"assessment\", \"\")}\n",
    "\n",
    "class News:\n",
    "    def __init__(self):\n",
    "        self.agent = NewsSummarizerAgent()\n",
    "\n",
    "    def respond(self, symbol, history):\n",
    "        result = self.agent.summarize(symbol)\n",
    "        return {\"message\": result.get(\"summary\", \"\")}\n",
    "\n",
    "coordinator = Coordinator([Analyst(), Risk(), News()])\n",
    "pipeline = Pipeline(coordinator)\n",
    "result = pipeline.run(\"TSLA\")\n",
    "result[\"final_decision\"]\n"
   ]
  },
  {
   "cell_type": "code",
   "execution_count": null,
   "id": "3611a09c",
   "metadata": {},
   "outputs": [],
   "source": []
  }
 ],
 "metadata": {
  "kernelspec": {
   "display_name": ".venv",
   "language": "python",
   "name": "python3"
  },
  "language_info": {
   "codemirror_mode": {
    "name": "ipython",
    "version": 3
   },
   "file_extension": ".py",
   "mimetype": "text/x-python",
   "name": "python",
   "nbconvert_exporter": "python",
   "pygments_lexer": "ipython3",
   "version": "3.9.12"
  }
 },
 "nbformat": 4,
 "nbformat_minor": 5
}
