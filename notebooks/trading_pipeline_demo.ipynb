{
  "cells": [
    {
      "cell_type": "markdown",
      "metadata": {},
      "source": [
        "# Trading Pipeline Demo\n",
        "\n",
        "Demonstrates running the pipeline for a date range and a single day."
      ]
    },
    {
      "cell_type": "code",
      "metadata": {},
      "execution_count": null,
      "outputs": [],
      "source": [
        "import sys, os\n",
        "project_root = os.path.abspath(os.path.join(os.getcwd(), '..'))\n",
        "if project_root not in sys.path:\n",
        "    sys.path.append(project_root)\n"
      ]
    },
    {
      "cell_type": "code",
      "metadata": {},
      "execution_count": null,
      "outputs": [],
      "source": [
        "from trading_bot.agents import MarketAnalystAgent, RiskAdvisorAgent, NewsSummarizerAgent\n",
        "from trading_bot.coordinator import Coordinator\n",
        "from trading_bot.pipeline import Pipeline\n",
        "from trading_bot.storage import JSONStorage\n",
        "from trading_bot.backtest import Backtester\n",
        "from trading_bot.portfolio import Portfolio\n",
        "\n",
        "coord = Coordinator([MarketAnalystAgent(), RiskAdvisorAgent(), NewsSummarizerAgent()])\n",
        "storage = JSONStorage()\n",
        "backtester = Backtester()\n",
        "portfolio = Portfolio()\n",
        "pipe = Pipeline(coord, storage=storage, backtester=backtester, portfolio=portfolio)\n"
      ]
    },
    {
      "cell_type": "code",
      "metadata": {},
      "execution_count": null,
      "outputs": [],
      "source": [
        "range_result = pipe.run('TSLA', start_date='2025-01-01', end_date='2025-01-03')\n",
        "range_result['files'], range_result['backtest']\n"
      ]
    },
    {
      "cell_type": "code",
      "metadata": {},
      "execution_count": null,
      "outputs": [],
      "source": [
        "single_result = pipe.run('TSLA', today='2025-01-02')\n",
        "single_result['strategy'], single_result['files']\n"
      ]
    },
    {
      "cell_type": "code",
      "metadata": {},
      "execution_count": null,
      "outputs": [],
      "source": [
        "portfolio.total_pnl(), [p.__dict__ for p in portfolio.closed_positions()]\n"
      ]
    }
  ],
  "metadata": {
    "kernelspec": {
      "display_name": ".venv",
      "language": "python",
      "name": "python3"
    },
    "language_info": {
      "codemirror_mode": {
        "name": "ipython",
        "version": 3
      },
      "file_extension": ".py",
      "mimetype": "text/x-python",
      "name": "python",
      "nbconvert_exporter": "python",
      "pygments_lexer": "ipython3",
      "version": "3.9.12"
    }
  },
  "nbformat": 4,
  "nbformat_minor": 5
}