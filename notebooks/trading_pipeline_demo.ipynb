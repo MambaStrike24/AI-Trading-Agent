{
 "cells": [
  {
   "cell_type": "markdown",
   "id": "87a6addf",
   "metadata": {},
   "source": [
    "# Trading Pipeline Demo\n",
    "\n",
    "This notebook demonstrates how to run the trading pipeline with multiple agents to generate a strategy for a given ticker."
   ]
  },
  {
   "cell_type": "code",
   "execution_count": null,
   "id": "23215d35",
   "metadata": {},
   "outputs": [],
   "source": [
    "from trading_bot.coordinator import Coordinator\n",
    "from trading_bot.agents import (\n",
    "    MarketAnalystAgent,\n",
    "    RiskAdvisorAgent,\n",
    "    NewsSummarizerAgent,\n",
    ")\n",
    "from trading_bot.pipeline import Pipeline\n"
   ]
  },
  {
   "cell_type": "code",
   "execution_count": null,
   "id": "e2a79977",
   "metadata": {},
   "outputs": [],
   "source": [
    "class Analyst:\n",
    "    def __init__(self):\n",
    "        self.agent = MarketAnalystAgent()\n",
    "\n",
    "    def respond(self, symbol, history):\n",
    "        result = self.agent.analyze(symbol)\n",
    "        return {\"message\": result.get(\"analysis\", \"\")}\n",
    "\n",
    "class Risk:\n",
    "    def __init__(self):\n",
    "        self.agent = RiskAdvisorAgent()\n",
    "\n",
    "    def respond(self, symbol, history):\n",
    "        result = self.agent.assess(symbol)\n",
    "        return {\"message\": result.get(\"assessment\", \"\")}\n",
    "\n",
    "class News:\n",
    "    def __init__(self):\n",
    "        self.agent = NewsSummarizerAgent()\n",
    "\n",
    "    def respond(self, symbol, history):\n",
    "        result = self.agent.summarize(symbol)\n",
    "        return {\"message\": result.get(\"summary\", \"\")}\n",
    "\n",
    "coordinator = Coordinator([Analyst(), Risk(), News()])\n",
    "pipeline = Pipeline(coordinator)\n",
    "result = pipeline.run(\"TSLA\")\n",
    "result[\"final_decision\"]\n"
   ]
  }
 ],
 "metadata": {
  "kernelspec": {
   "display_name": "Python 3",
   "language": "python",
   "name": "python3"
  },
  "language_info": {
   "name": "python"
  }
 },
 "nbformat": 4,
 "nbformat_minor": 5
}
